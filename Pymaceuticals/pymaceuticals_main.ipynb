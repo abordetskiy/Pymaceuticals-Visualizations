{
 "cells": [
  {
   "cell_type": "markdown",
   "metadata": {},
   "source": [
    "## Observations and Insights "
   ]
  },
  {
   "cell_type": "markdown",
   "metadata": {},
   "source": []
  },
  {
   "cell_type": "code",
   "execution_count": 1,
   "metadata": {},
   "outputs": [
    {
     "data": {
      "text/plain": [
       "'\\n1a: From a first glance at the BoxPlot - it seems that Capomulin and Ramicane groups showed \\na much lower distribution of Final Tumor Volume - suggesting these drugs may have a larger effect\\n1b: Referring to the Summary Statistics chart, both Capomulin and Ramicane also had significantly\\nlower average tumor volume while also having the least variance and standard deviations. \\nThis also suggests these drugs may have a larger effect with a tighter cluster of lower volume tumors.\\n\\n2: Looking at the Bar and Pie charts - the obervation to be made is that the demographics are evenly\\ndistributed among the sample. This already tells me that the population should behave relatively \\nnormally, save for the variables that are being altered. In short, it lets me know that the structure\\nof the experiment looks sound and lets me trust the results more.\\n\\n\\n3: The correlation coefficient of .84 shows us a strong correlation between the weight of the mouse\\nand the average tumor volume. This makes sense as heavier mice would have larger general size and\\nstructure, meaning that larger tumors may be \"easier\" for heavier mice to grow.\\n'"
      ]
     },
     "execution_count": 1,
     "metadata": {},
     "output_type": "execute_result"
    }
   ],
   "source": [
    "#OBSERVATIONS:\n",
    "'''\n",
    "1a: From a first glance at the BoxPlot - it seems that Capomulin and Ramicane groups showed \n",
    "a much lower distribution of Final Tumor Volume - suggesting these drugs may have a larger effect\n",
    "1b: Referring to the Summary Statistics chart, both Capomulin and Ramicane also had significantly\n",
    "lower average tumor volume while also having the least variance and standard deviations. \n",
    "This also suggests these drugs may have a larger effect with a tighter cluster of lower volume tumors.\n",
    "\n",
    "2: Looking at the Bar and Pie charts - the obervation to be made is that the demographics are evenly\n",
    "distributed among the sample. This already suggests that the population should behave relatively \n",
    "normally, save for the variables that are being altered. In short, it supports the validity of the experimental groups\n",
    "and strengthens trust in the results.\n",
    "\n",
    "\n",
    "3: The correlation coefficient of .84 shows a strong correlation between the weight of the mouse\n",
    "and the average tumor volume. This makes sense as heavier mice would have larger general size and\n",
    "structure, meaning that larger tumors may be \"easier\" for heavier mice to grow. It would be interesting to see if the\n",
    "for the other drug regimens was similariy correlated, or if there was a \n",
    "different relationship between mouse weight and average tumor volume\n",
    "'''"
   ]
  },
  {
   "cell_type": "code",
   "execution_count": 2,
   "metadata": {},
   "outputs": [
    {
     "data": {
      "text/html": [
       "<div>\n",
       "<style scoped>\n",
       "    .dataframe tbody tr th:only-of-type {\n",
       "        vertical-align: middle;\n",
       "    }\n",
       "\n",
       "    .dataframe tbody tr th {\n",
       "        vertical-align: top;\n",
       "    }\n",
       "\n",
       "    .dataframe thead th {\n",
       "        text-align: right;\n",
       "    }\n",
       "</style>\n",
       "<table border=\"1\" class=\"dataframe\">\n",
       "  <thead>\n",
       "    <tr style=\"text-align: right;\">\n",
       "      <th></th>\n",
       "      <th>Mouse ID</th>\n",
       "      <th>Timepoint</th>\n",
       "      <th>Tumor Volume (mm3)</th>\n",
       "      <th>Metastatic Sites</th>\n",
       "      <th>Drug Regimen</th>\n",
       "      <th>Sex</th>\n",
       "      <th>Age_months</th>\n",
       "      <th>Weight (g)</th>\n",
       "    </tr>\n",
       "  </thead>\n",
       "  <tbody>\n",
       "    <tr>\n",
       "      <th>0</th>\n",
       "      <td>b128</td>\n",
       "      <td>0</td>\n",
       "      <td>45.0</td>\n",
       "      <td>0</td>\n",
       "      <td>Capomulin</td>\n",
       "      <td>Female</td>\n",
       "      <td>9</td>\n",
       "      <td>22</td>\n",
       "    </tr>\n",
       "    <tr>\n",
       "      <th>1</th>\n",
       "      <td>f932</td>\n",
       "      <td>0</td>\n",
       "      <td>45.0</td>\n",
       "      <td>0</td>\n",
       "      <td>Ketapril</td>\n",
       "      <td>Male</td>\n",
       "      <td>15</td>\n",
       "      <td>29</td>\n",
       "    </tr>\n",
       "    <tr>\n",
       "      <th>2</th>\n",
       "      <td>g107</td>\n",
       "      <td>0</td>\n",
       "      <td>45.0</td>\n",
       "      <td>0</td>\n",
       "      <td>Ketapril</td>\n",
       "      <td>Female</td>\n",
       "      <td>2</td>\n",
       "      <td>29</td>\n",
       "    </tr>\n",
       "    <tr>\n",
       "      <th>3</th>\n",
       "      <td>a457</td>\n",
       "      <td>0</td>\n",
       "      <td>45.0</td>\n",
       "      <td>0</td>\n",
       "      <td>Ketapril</td>\n",
       "      <td>Female</td>\n",
       "      <td>11</td>\n",
       "      <td>30</td>\n",
       "    </tr>\n",
       "    <tr>\n",
       "      <th>4</th>\n",
       "      <td>c819</td>\n",
       "      <td>0</td>\n",
       "      <td>45.0</td>\n",
       "      <td>0</td>\n",
       "      <td>Ketapril</td>\n",
       "      <td>Male</td>\n",
       "      <td>21</td>\n",
       "      <td>25</td>\n",
       "    </tr>\n",
       "  </tbody>\n",
       "</table>\n",
       "</div>"
      ],
      "text/plain": [
       "  Mouse ID  Timepoint  Tumor Volume (mm3)  Metastatic Sites Drug Regimen  \\\n",
       "0     b128          0                45.0                 0    Capomulin   \n",
       "1     f932          0                45.0                 0     Ketapril   \n",
       "2     g107          0                45.0                 0     Ketapril   \n",
       "3     a457          0                45.0                 0     Ketapril   \n",
       "4     c819          0                45.0                 0     Ketapril   \n",
       "\n",
       "      Sex  Age_months  Weight (g)  \n",
       "0  Female           9          22  \n",
       "1    Male          15          29  \n",
       "2  Female           2          29  \n",
       "3  Female          11          30  \n",
       "4    Male          21          25  "
      ]
     },
     "execution_count": 2,
     "metadata": {},
     "output_type": "execute_result"
    }
   ],
   "source": [
    "# Dependencies and Setup\n",
    "import matplotlib.pyplot as plt\n",
    "import pandas as pd\n",
    "import scipy.stats as st\n",
    "import numpy as np\n",
    "\n",
    "# Study data files\n",
    "mouse_metadata_path = \"data/Mouse_metadata.csv\"\n",
    "study_results_path = \"data/Study_results.csv\"\n",
    "\n",
    "# Read the mouse data and the study results\n",
    "mouse_metadata = pd.read_csv(mouse_metadata_path)\n",
    "study_results = pd.read_csv(study_results_path)\n",
    "\n",
    "# Combine the data into a single dataset\n",
    "MergedData_df = pd.merge(study_results, mouse_metadata, on=\"Mouse ID\",how=\"left\")\n",
    "# Display the data table for preview\n",
    "MergedData_df.head()"
   ]
  },
  {
   "cell_type": "code",
   "execution_count": 3,
   "metadata": {},
   "outputs": [],
   "source": [
    "# Create a clean DataFrame by dropping the duplicate mouse by its ID.\n",
    "DupList = []\n",
    "#creates a list of booleans designating whether the mouse ID is duplicate and adds it to the last row\"\n",
    "MergedData_df[\"dup\"] = MergedData_df.duplicated(subset=[\"Mouse ID\", \"Timepoint\"])\n",
    "#creates list of duplicated Mouse IDs for reference against main dataframe\n",
    "for index, row in MergedData_df.iterrows():\n",
    "    if row[\"dup\"] == True:\n",
    "        DupList.append(row[\"Mouse ID\"])\n",
    "#creates a clean dataframe to be used moving forward without the duplicated mouse data\n",
    "Clean_df = MergedData_df[MergedData_df['Mouse ID'].isin(DupList)==False]"
   ]
  },
  {
   "cell_type": "code",
   "execution_count": 4,
   "metadata": {},
   "outputs": [
    {
     "name": "stdout",
     "output_type": "stream",
     "text": [
      "All duplicates removed: 248 mice participated in this study.\n"
     ]
    }
   ],
   "source": [
    "# Checking the number of mice in the clean DataFrame.\n",
    "CleanTotalMice = Clean_df[\"Mouse ID\"].unique()\n",
    "print(f\"All duplicates removed: {len(CleanTotalMice)} mice participated in this study.\")"
   ]
  },
  {
   "cell_type": "markdown",
   "metadata": {},
   "source": [
    "## Summary Statistics"
   ]
  },
  {
   "cell_type": "code",
   "execution_count": 5,
   "metadata": {
    "scrolled": true
   },
   "outputs": [
    {
     "data": {
      "text/html": [
       "<div>\n",
       "<style scoped>\n",
       "    .dataframe tbody tr th:only-of-type {\n",
       "        vertical-align: middle;\n",
       "    }\n",
       "\n",
       "    .dataframe tbody tr th {\n",
       "        vertical-align: top;\n",
       "    }\n",
       "\n",
       "    .dataframe thead th {\n",
       "        text-align: right;\n",
       "    }\n",
       "</style>\n",
       "<table border=\"1\" class=\"dataframe\">\n",
       "  <thead>\n",
       "    <tr style=\"text-align: right;\">\n",
       "      <th></th>\n",
       "      <th>Mean</th>\n",
       "      <th>Median</th>\n",
       "      <th>Variance</th>\n",
       "      <th>Standard Deviation</th>\n",
       "      <th>SEM</th>\n",
       "    </tr>\n",
       "    <tr>\n",
       "      <th>Drug Regimen</th>\n",
       "      <th></th>\n",
       "      <th></th>\n",
       "      <th></th>\n",
       "      <th></th>\n",
       "      <th></th>\n",
       "    </tr>\n",
       "  </thead>\n",
       "  <tbody>\n",
       "    <tr>\n",
       "      <th>Capomulin</th>\n",
       "      <td>40.675741</td>\n",
       "      <td>41.557809</td>\n",
       "      <td>24.947764</td>\n",
       "      <td>4.994774</td>\n",
       "      <td>0.329346</td>\n",
       "    </tr>\n",
       "    <tr>\n",
       "      <th>Ceftamin</th>\n",
       "      <td>52.591172</td>\n",
       "      <td>51.776157</td>\n",
       "      <td>39.290177</td>\n",
       "      <td>6.268188</td>\n",
       "      <td>0.469821</td>\n",
       "    </tr>\n",
       "    <tr>\n",
       "      <th>Infubinol</th>\n",
       "      <td>52.884795</td>\n",
       "      <td>51.820584</td>\n",
       "      <td>43.128684</td>\n",
       "      <td>6.567243</td>\n",
       "      <td>0.492236</td>\n",
       "    </tr>\n",
       "    <tr>\n",
       "      <th>Ketapril</th>\n",
       "      <td>55.235638</td>\n",
       "      <td>53.698743</td>\n",
       "      <td>68.553577</td>\n",
       "      <td>8.279709</td>\n",
       "      <td>0.603860</td>\n",
       "    </tr>\n",
       "    <tr>\n",
       "      <th>Naftisol</th>\n",
       "      <td>54.331565</td>\n",
       "      <td>52.509285</td>\n",
       "      <td>66.173479</td>\n",
       "      <td>8.134708</td>\n",
       "      <td>0.596466</td>\n",
       "    </tr>\n",
       "    <tr>\n",
       "      <th>Placebo</th>\n",
       "      <td>54.033581</td>\n",
       "      <td>52.288934</td>\n",
       "      <td>61.168083</td>\n",
       "      <td>7.821003</td>\n",
       "      <td>0.581331</td>\n",
       "    </tr>\n",
       "    <tr>\n",
       "      <th>Propriva</th>\n",
       "      <td>52.320930</td>\n",
       "      <td>50.446266</td>\n",
       "      <td>43.852013</td>\n",
       "      <td>6.622085</td>\n",
       "      <td>0.544332</td>\n",
       "    </tr>\n",
       "    <tr>\n",
       "      <th>Ramicane</th>\n",
       "      <td>40.216745</td>\n",
       "      <td>40.673236</td>\n",
       "      <td>23.486704</td>\n",
       "      <td>4.846308</td>\n",
       "      <td>0.320955</td>\n",
       "    </tr>\n",
       "    <tr>\n",
       "      <th>Stelasyn</th>\n",
       "      <td>54.233149</td>\n",
       "      <td>52.431737</td>\n",
       "      <td>59.450562</td>\n",
       "      <td>7.710419</td>\n",
       "      <td>0.573111</td>\n",
       "    </tr>\n",
       "    <tr>\n",
       "      <th>Zoniferol</th>\n",
       "      <td>53.236507</td>\n",
       "      <td>51.818479</td>\n",
       "      <td>48.533355</td>\n",
       "      <td>6.966589</td>\n",
       "      <td>0.516398</td>\n",
       "    </tr>\n",
       "  </tbody>\n",
       "</table>\n",
       "</div>"
      ],
      "text/plain": [
       "                   Mean     Median   Variance  Standard Deviation       SEM\n",
       "Drug Regimen                                                               \n",
       "Capomulin     40.675741  41.557809  24.947764            4.994774  0.329346\n",
       "Ceftamin      52.591172  51.776157  39.290177            6.268188  0.469821\n",
       "Infubinol     52.884795  51.820584  43.128684            6.567243  0.492236\n",
       "Ketapril      55.235638  53.698743  68.553577            8.279709  0.603860\n",
       "Naftisol      54.331565  52.509285  66.173479            8.134708  0.596466\n",
       "Placebo       54.033581  52.288934  61.168083            7.821003  0.581331\n",
       "Propriva      52.320930  50.446266  43.852013            6.622085  0.544332\n",
       "Ramicane      40.216745  40.673236  23.486704            4.846308  0.320955\n",
       "Stelasyn      54.233149  52.431737  59.450562            7.710419  0.573111\n",
       "Zoniferol     53.236507  51.818479  48.533355            6.966589  0.516398"
      ]
     },
     "execution_count": 5,
     "metadata": {},
     "output_type": "execute_result"
    }
   ],
   "source": [
    "# Generate a summary statistics table of mean, median, variance, standard deviation, and SEM of the tumor volume for each regimen\n",
    "SummaryStats = pd.DataFrame(columns=[\"Mean\", \"Median\", \"Variance\", \"Standard Deviation\", \"SEM\"])\n",
    "# This method produces everything in a single groupby function\n",
    "Regimen_gb = Clean_df.groupby([\"Drug Regimen\"])\n",
    "SummaryStats[\"Mean\"] = Regimen_gb[\"Tumor Volume (mm3)\"].mean()\n",
    "SummaryStats[\"Median\"]  = Regimen_gb[\"Tumor Volume (mm3)\"].median()\n",
    "SummaryStats[\"Variance\"] = Regimen_gb[\"Tumor Volume (mm3)\"].var()\n",
    "SummaryStats[\"Standard Deviation\"] = Regimen_gb[\"Tumor Volume (mm3)\"].std()\n",
    "SummaryStats[\"SEM\"] = Regimen_gb[\"Tumor Volume (mm3)\"].sem()\n",
    "SummaryStats"
   ]
  },
  {
   "cell_type": "markdown",
   "metadata": {},
   "source": [
    "## Bar and Pie Charts"
   ]
  },
  {
   "cell_type": "code",
   "execution_count": 6,
   "metadata": {},
   "outputs": [
    {
     "data": {
      "text/plain": [
       "<matplotlib.axes._subplots.AxesSubplot at 0x258cbad6d48>"
      ]
     },
     "execution_count": 6,
     "metadata": {},
     "output_type": "execute_result"
    },
    {
     "data": {
      "image/png": "[encoded data removed]",
      "text/plain": [
       "<Figure size 432x288 with 1 Axes>"
      ]
     },
     "metadata": {
      "needs_background": "light"
     },
     "output_type": "display_data"
    }
   ],
   "source": [
    "# Generate a bar plot showing the total number of mice for each treatment throughout the course of the study using pandas. \n",
    "#removes duplicates to keep only one entry for each mouseID\n",
    "#NO MATPLOTLIB FUNCTIONS USED FOR PANDAS CHART\n",
    "BarChart_df = Clean_df.drop_duplicates(subset=[\"Mouse ID\"], keep=\"first\")\n",
    "BarPlot_gb = BarChart_df.groupby([\"Drug Regimen\"])\n",
    "xBarPD = BarPlot_gb[\"Mouse ID\"].count()\n",
    "xBarPD.plot(kind = \"bar\", width=.5, title=\"Mouse Count per Drug Regimen\")"
   ]
  },
  {
   "cell_type": "code",
   "execution_count": 7,
   "metadata": {},
   "outputs": [
    {
     "data": {
      "image/png": "[encoded data removed]",
      "text/plain": [
       "<Figure size 432x288 with 1 Axes>"
      ]
     },
     "metadata": {
      "needs_background": "light"
     },
     "output_type": "display_data"
    }
   ],
   "source": [
    "# Generate a bar plot showing the total number of mice for each treatment throughout the course of the study using pyplot.\n",
    "#creating list of drug regimens to be x_axis labels\n",
    "xBarPLT = Clean_df[\"Drug Regimen\"].unique()\n",
    "#sorting alphabetically to match other chart\n",
    "xBarPLT.sort()\n",
    "#plot chart and update format to match above\n",
    "plt.bar(xBarPLT,BarPlot_gb[\"Mouse ID\"].count(), width=.5)\n",
    "plt.title(\"Mouse Count per Drug Regimen\")\n",
    "plt.xlabel(\"Drug Regimen\")\n",
    "plt.xticks(rotation=90)\n",
    "plt.show()"
   ]
  },
  {
   "cell_type": "code",
   "execution_count": 14,
   "metadata": {
    "scrolled": true
   },
   "outputs": [
    {
     "data": {
      "text/plain": [
       "<matplotlib.axes._subplots.AxesSubplot at 0x258cc1ebdc8>"
      ]
     },
     "execution_count": 14,
     "metadata": {},
     "output_type": "execute_result"
    },
    {
     "data": {
      "image/png": "[encoded data removed]",
      "text/plain": [
       "<Figure size 360x360 with 1 Axes>"
      ]
     },
     "metadata": {},
     "output_type": "display_data"
    }
   ],
   "source": [
    "# Generate a pie plot showing the distribution of female versus male mice using pandas\n",
    "#NO MATPLOTLIB FUNCTIONS USED FOR PANDAS CHART\n",
    "Gender_gb = Clean_df.groupby([\"Sex\"])\n",
    "Gender_df = pd.DataFrame(Gender_gb[\"Mouse ID\"].count())\n",
    "Gender_df.plot.pie(y=\"Mouse ID\", title=\"Gender split among Total Population\", figsize=(5,5),autopct=\"%1.2f%%\")"
   ]
  },
  {
   "cell_type": "code",
   "execution_count": 15,
   "metadata": {},
   "outputs": [
    {
     "data": {
      "image/png": "[encoded data removed]",
      "text/plain": [
       "<Figure size 360x360 with 1 Axes>"
      ]
     },
     "metadata": {},
     "output_type": "display_data"
    }
   ],
   "source": [
    "# Generate a pie plot showing the distribution of female versus male mice using pyplot\n",
    "#plot chart and update format to match above\n",
    "plt.figure(figsize=(5,5))\n",
    "plt.pie(Gender_df[\"Mouse ID\"], labels = [\"Female\",\"Male\"],autopct=\"%1.2f%%\")\n",
    "plt.title(\"Gender split among Total Population\")\n",
    "plt.ylabel(\"Mouse ID\")\n",
    "plt.legend(labels = [\"Female\",\"Male\"])\n",
    "plt.show()"
   ]
  },
  {
   "cell_type": "markdown",
   "metadata": {},
   "source": [
    "## Quartiles, Outliers and Boxplots"
   ]
  },
  {
   "cell_type": "code",
   "execution_count": 17,
   "metadata": {},
   "outputs": [],
   "source": [
    "# Calculate the final tumor volume of each mouse across four of the treatment regimens:  \n",
    "# Capomulin, Ramicane, Infubinol, and Ceftamin\n",
    "# Start by getting the last (greatest) timepoint for each mouse\n",
    "FinalTumorTimepoint = Clean_df.groupby([\"Mouse ID\"])[\"Timepoint\"].max()\n",
    "# Merge this group df with the original dataframe to  get the tumor volume at the last timepoint\n",
    "Combined_df = pd.merge(Clean_df,FinalTumorTimepoint,on=\"Mouse ID\")"
   ]
  },
  {
   "cell_type": "code",
   "execution_count": 18,
   "metadata": {},
   "outputs": [
    {
     "name": "stdout",
     "output_type": "stream",
     "text": [
      "Capomulin IQR:7.781863460000004\n",
      "Capomulin Lower Limit:20.70456164999999\n",
      "Capomulin Upper Limit:51.83201549\n",
      "Capomulin Quantitative Quartile Test Run: No Outliers found in data\n",
      "\n",
      "Ramicane IQR:9.098536719999998\n",
      "Ramicane Lower Limit:17.912664470000003\n",
      "Ramicane Upper Limit:54.30681135\n",
      "Ramicane Quantitative Quartile Test Run: No Outliers found in data\n",
      "\n",
      "Infubinol IQR:11.477135160000003\n",
      "Infubinol Lower Limit:36.83290494999999\n",
      "Infubinol Upper Limit:82.74144559000001\n",
      "The following potential outlier was below the lower bounds:\n",
      "\n",
      "Mouse ID                   c326\n",
      "Timepoint_x                   5\n",
      "Tumor Volume (mm3)      36.3213\n",
      "Metastatic Sites              0\n",
      "Drug Regimen          Infubinol\n",
      "Sex                      Female\n",
      "Age_months                   18\n",
      "Weight (g)                   25\n",
      "dup                       False\n",
      "Timepoint_y                   5\n",
      "Name: 214, dtype: object\n",
      "\n",
      "\n",
      "Infubinol Quantitative Quartile Test Run: No Outliers found in data\n",
      "\n",
      "Ceftamin IQR:15.577752179999997\n",
      "Ceftamin Lower Limit:25.355449580000002\n",
      "Ceftamin Upper Limit:87.66645829999999\n",
      "Ceftamin Quantitative Quartile Test Run: No Outliers found in data\n",
      "\n"
     ]
    }
   ],
   "source": [
    "# Put treatments into a list for for loop (and later for plot labels)\n",
    "DrugList = [\"Capomulin\", \"Ramicane\", \"Infubinol\", \"Ceftamin\"]\n",
    "#using LOC to get pull only last timepoint entry rows for only our 4 drug regimens\n",
    "Combined_df = Combined_df.loc[Combined_df[\"Timepoint_x\"]==Combined_df[\"Timepoint_y\"]]\n",
    "DrugList_df = Combined_df.loc[Combined_df[\"Drug Regimen\"].isin(DrugList)==True] \n",
    "\n",
    "# Calculate the IQR and quantitatively determine if there are any potential outliers. \n",
    "for Drug in DrugList:\n",
    "    Clear = False\n",
    "    Drug_df = DrugList_df.loc[DrugList_df[\"Drug Regimen\"] == Drug]\n",
    "    Quartiles = Drug_df[\"Tumor Volume (mm3)\"].quantile([.25,.5,.75])\n",
    "    LowerQ = Quartiles[0.25]\n",
    "    UpperQ = Quartiles[0.75]\n",
    "    IQR = UpperQ-LowerQ\n",
    "\n",
    "    Lower_Lim = LowerQ - (1.5*IQR)\n",
    "    Upper_Lim = UpperQ + (1.5*IQR)\n",
    "    print(f\"{Drug} IQR:{IQR}\")\n",
    "    print(f\"{Drug} Lower Limit:{Lower_Lim}\")\n",
    "    print(f\"{Drug} Upper Limit:{Upper_Lim}\")\n",
    "# Determine outliers using upper and lower bounds    \n",
    "    for index, row in Drug_df.iterrows():\n",
    "            #catches upper limit break - prints the metadata for that mouse\n",
    "            if row[\"Tumor Volume (mm3)\"] > Upper_Lim:\n",
    "                print(\"The following potential outlier was above the upper bounds:\"+'\\n')\n",
    "                print(row)\n",
    "                print('\\n')\n",
    "            #catches lower limit break - prints the metadata for that mouse\n",
    "            elif row[\"Tumor Volume (mm3)\"] < Lower_Lim:\n",
    "                print(\"The following potential outlier was below the lower bounds:\"+'\\n')\n",
    "                print(row)\n",
    "                print('\\n')\n",
    "            #if no breaks for this Drug Regimen, set Clear switch to True so last if statement catches\n",
    "            else:\n",
    "                Clear = True\n",
    "    #if no outliers were detected, lets the user know\n",
    "    if Clear == True:\n",
    "        print(f\"{Drug} Quantitative Quartile Test Run: No Outliers found in data\"+'\\n')"
   ]
  },
  {
   "cell_type": "code",
   "execution_count": 19,
   "metadata": {},
   "outputs": [
    {
     "data": {
      "image/png": "[encoded data removed]",
      "text/plain": [
       "<Figure size 432x288 with 1 Axes>"
      ]
     },
     "metadata": {
      "needs_background": "light"
     },
     "output_type": "display_data"
    }
   ],
   "source": [
    "# Generate a box plot of the final tumor volume of each mouse across four regimens of interest\n",
    "#create individual Dataframes for each drug regimen\n",
    "Capomulin_df = DrugList_df.loc[DrugList_df[\"Drug Regimen\"] == \"Capomulin\"]\n",
    "Ramicane_df = DrugList_df.loc[DrugList_df[\"Drug Regimen\"] == \"Ramicane\"]\n",
    "Infubinol_df = DrugList_df.loc[DrugList_df[\"Drug Regimen\"] == \"Infubinol\"]\n",
    "Ceftamin_df = DrugList_df.loc[DrugList_df[\"Drug Regimen\"] == \"Ceftamin\"]\n",
    "#plot the lists\n",
    "BoxPlotLists = [Capomulin_df[\"Tumor Volume (mm3)\"],Ramicane_df[\"Tumor Volume (mm3)\"],Infubinol_df[\"Tumor Volume (mm3)\"],Ceftamin_df[\"Tumor Volume (mm3)\"]]\n",
    "#establish formatting parameter  to be passed later\n",
    "flierprops = dict(marker='D', markerfacecolor='orange', markersize=5)\n",
    "#establish subplots and adjust formatting\n",
    "figure, axis = plt.subplots()\n",
    "axis.set_title(\"Box Plot of Final Tumor Volume over Four Drug Regimens\")\n",
    "axis.set_ylabel(\"Tumor Volume (mm3)\")\n",
    "axis.set_xlabel(\"Drug Regimen\")\n",
    "#plot chart\n",
    "axis.boxplot(BoxPlotLists,labels=DrugList,flierprops=flierprops)\n",
    "plt.show()"
   ]
  },
  {
   "cell_type": "markdown",
   "metadata": {},
   "source": [
    "## Line and Scatter Plots"
   ]
  },
  {
   "cell_type": "code",
   "execution_count": 20,
   "metadata": {},
   "outputs": [
    {
     "data": {
      "image/png": "[encoded data removed]",
      "text/plain": [
       "<Figure size 432x288 with 1 Axes>"
      ]
     },
     "metadata": {
      "needs_background": "light"
     },
     "output_type": "display_data"
    }
   ],
   "source": [
    "# Generate a line plot of time point versus tumor volume for a mouse treated with Capomulin\n",
    "#randomly samples one mouse from the Capomulin regimen\n",
    "RandomMouse = Clean_df.loc[Clean_df[\"Drug Regimen\"] == \"Capomulin\"].sample(1)\n",
    "#pulls just the mouseID for that entry\n",
    "RandomMouseID = RandomMouse.iloc[0,0]\n",
    "#pulls all timepoint data for that mouseID\n",
    "RandomMouse_df = Clean_df.loc[Clean_df[\"Mouse ID\"] == RandomMouseID]\n",
    "#plots mouse data and applies proper formatting\n",
    "plt.plot(RandomMouse_df[\"Timepoint\"],RandomMouse_df[\"Tumor Volume (mm3)\"])\n",
    "plt.title(f\"Line Plot of Timepoint versus Tumor Volume (mm3) for random mouse treated with Capomulin ({RandomMouseID}).\")\n",
    "plt.ylabel(\"Tumor Volume (mm3)\")\n",
    "plt.xlabel(\"Timepoint\")\n",
    "plt.show()"
   ]
  },
  {
   "cell_type": "markdown",
   "metadata": {},
   "source": [
    "## Correlation and Regression"
   ]
  },
  {
   "cell_type": "code",
   "execution_count": 13,
   "metadata": {
    "scrolled": false
   },
   "outputs": [
    {
     "name": "stdout",
     "output_type": "stream",
     "text": [
      "The Correlation Coefficient between Mouse Weight and Average Tumor Volume is: 0.84\n",
      "The r-squared between Mouse Weight and Average Tumor Volume is: 0.7088568047708717\n",
      "Line Equation: y = 0.95x + 21.55\n"
     ]
    },
    {
     "data": {
      "image/png": "[encoded data removed]",
      "text/plain": [
       "<Figure size 432x288 with 1 Axes>"
      ]
     },
     "metadata": {
      "needs_background": "light"
     },
     "output_type": "display_data"
    }
   ],
   "source": [
    "# Generate a scatter plot of mouse weight versus average tumor volume for the Capomulin regimen\n",
    "ScatterData_df = Clean_df.loc[Clean_df[\"Drug Regimen\"] == \"Capomulin\"]\n",
    "#establishes dataframe to be used with only capomulin regimen data and nececarry columns\n",
    "Scatter_df = ScatterData_df[[\"Mouse ID\",\"Weight (g)\"]]\n",
    "#use groupby to find average tumor volume for each mouse\n",
    "Scatter_gb = ScatterData_df.groupby([\"Mouse ID\"])[\"Tumor Volume (mm3)\"].mean()\n",
    "#merge average tumor volume into Dataframe\n",
    "Scatter_df = pd.merge(Scatter_df, Scatter_gb, on=[\"Mouse ID\"])\n",
    "#removes duplicate values since weight and average tumor volume are consistent across Mouse ID\n",
    "Scatter_df=Scatter_df.drop_duplicates()\n",
    "\n",
    "# Calculate the correlation coefficient and linear regression model \n",
    "# for mouse weight and average tumor volume for the Capomulin regimen\n",
    "correlation = st.pearsonr(Scatter_df[\"Weight (g)\"],Scatter_df[\"Tumor Volume (mm3)\"])\n",
    "print(f\"The Correlation Coefficient between Mouse Weight and Average Tumor Volume is: {round(correlation[0],2)}\")\n",
    "#set up lineregression formula from Stats using our same dataset for correlation\n",
    "(slope, intercept, rvalue, pvalue, stderr) = st.linregress(Scatter_df[\"Weight (g)\"], Scatter_df[\"Tumor Volume (mm3)\"])\n",
    "#establish regression line with data values\n",
    "regress_values = Scatter_df[\"Weight (g)\"] * slope + intercept\n",
    "#established line equation that will be used for printout and line annotation\n",
    "line_equation = \"y = \" + str(round(slope,2)) + \"x + \" + str(round(intercept,2))\n",
    "#provides output to user on linear regression model\n",
    "print(f\"The r-squared between Mouse Weight and Average Tumor Volume is: {rvalue**2}\")\n",
    "print(f\"Line Equation: {line_equation}\")\n",
    "#plots scatterplot\n",
    "plt.scatter(Scatter_df[\"Weight (g)\"],Scatter_df[\"Tumor Volume (mm3)\"])\n",
    "#plots red line on graph\n",
    "plt.plot(Scatter_df[\"Weight (g)\"],regress_values,\"r-\")\n",
    "#adjusts formatting and prints graph\n",
    "plt.title(\"Scatter Plot of Mouse Weight versus Average Tumor Volume for the Capomulin Regimen\")\n",
    "plt.xlabel(\"Weight (g)\")\n",
    "plt.ylabel(\"Tumor Volume (mm3)\")\n",
    "plt.show()"
   ]
  },
  {
   "cell_type": "code",
   "execution_count": null,
   "metadata": {},
   "outputs": [],
   "source": []
  }
 ],
 "metadata": {
  "anaconda-cloud": {},
  "kernelspec": {
   "display_name": "Python 3",
   "language": "python",
   "name": "python3"
  },
  "language_info": {
   "codemirror_mode": {
    "name": "ipython",
    "version": 3
   },
   "file_extension": ".py",
   "mimetype": "text/x-python",
   "name": "python",
   "nbconvert_exporter": "python",
   "pygments_lexer": "ipython3",
   "version": "3.7.6"
  }
 },
 "nbformat": 4,
 "nbformat_minor": 2
}
